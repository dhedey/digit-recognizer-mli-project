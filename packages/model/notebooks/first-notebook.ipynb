{
 "cells": [
  {
   "cell_type": "code",
   "id": "e02b36b5-2127-4559-aa7f-a655a1dcdeab",
   "metadata": {
    "ExecuteTime": {
     "end_time": "2025-04-28T14:24:58.844066Z",
     "start_time": "2025-04-28T14:24:58.841898Z"
    }
   },
   "source": [
    "import torch\n",
    "import torch.nn as nn\n",
    "import torch.nn.functional as F\n",
    "import torchvision\n",
    "from torchvision.transforms import v2\n"
   ],
   "outputs": [],
   "execution_count": 23
  },
  {
   "metadata": {
    "ExecuteTime": {
     "end_time": "2025-04-28T16:24:43.372200Z",
     "start_time": "2025-04-28T16:24:43.347392Z"
    }
   },
   "cell_type": "code",
   "source": [
    "# https://pytorch.org/tutorials/beginner/blitz/cifar10_tutorial.html includes a normalization; I don't think we want that for images\n",
    "input_transform = v2.Compose([\n",
    "    v2.ToImage(),\n",
    "    v2.ToDtype(dtype=torch.float32),\n",
    "])\n",
    "\n",
    "train_set = torchvision.datasets.MNIST(\n",
    "    \"./data\",\n",
    "    download=True,\n",
    "    transform=input_transform,\n",
    "    train=True,\n",
    ")\n",
    "test_set = torchvision.datasets.MNIST(\n",
    "    \"./data\",\n",
    "    download=True,\n",
    "    transform=input_transform,\n",
    "    train=False,\n",
    ")\n",
    "print(f\"Training set size: {len(train_set)}\")\n",
    "print(f\"Test set size: {len(test_set)}\")"
   ],
   "id": "ec7832a42f99d8fc",
   "outputs": [
    {
     "name": "stdout",
     "output_type": "stream",
     "text": [
      "Training set size: 60000\n",
      "Test set size: 10000\n"
     ]
    }
   ],
   "execution_count": 66
  },
  {
   "metadata": {
    "ExecuteTime": {
     "end_time": "2025-04-28T14:40:13.081210Z",
     "start_time": "2025-04-28T14:40:13.075184Z"
    }
   },
   "cell_type": "code",
   "source": [
    "class Net(nn.Module):\n",
    "    def __init__(self):\n",
    "        super().__init__()\n",
    "        self.conv1 = nn.Conv2d(1, 6, 5)\n",
    "        self.pool = nn.MaxPool2d(2, 2)\n",
    "        self.conv2 = nn.Conv2d(6, 16, 5)\n",
    "        self.fc1 = nn.Linear(16 * 16, 120)\n",
    "        self.fc2 = nn.Linear(120, 84)\n",
    "        self.fc3 = nn.Linear(84, 10)\n",
    "\n",
    "    def forward(self, x):\n",
    "        x = self.pool(F.relu(self.conv1(x)))\n",
    "        x = self.pool(F.relu(self.conv2(x)))\n",
    "        x = torch.flatten(x, 1) # flatten all dimensions except batch\n",
    "        x = F.relu(self.fc1(x))\n",
    "        x = F.relu(self.fc2(x))\n",
    "        x = self.fc3(x)\n",
    "        return x\n",
    "\n",
    "net = Net()\n"
   ],
   "id": "372b2e151158c359",
   "outputs": [],
   "execution_count": 34
  },
  {
   "metadata": {},
   "cell_type": "code",
   "outputs": [],
   "execution_count": null,
   "source": [
    "import torch.optim as optim\n",
    "\n",
    "criterion = nn.CrossEntropyLoss()\n",
    "optimizer = optim.SGD(net.parameters(), lr=0.001, momentum=0.9)"
   ],
   "id": "80cf48ef97e4472e"
  },
  {
   "metadata": {
    "ExecuteTime": {
     "end_time": "2025-04-28T15:12:35.443190Z",
     "start_time": "2025-04-28T15:06:12.204492Z"
    }
   },
   "cell_type": "code",
   "source": [
    "batch_size = 4\n",
    "\n",
    "train_loader = torch.utils.data.DataLoader(\n",
    "    train_set,\n",
    "    batch_size=batch_size,\n",
    "    shuffle=True,\n",
    "    num_workers=2\n",
    ")\n",
    "\n",
    "for epoch in range(50):  # loop over the dataset multiple times\n",
    "    running_loss = 0.0\n",
    "    for i, data in enumerate(train_loader):\n",
    "        # get the inputs; data is a list of [inputs, labels]\n",
    "        inputs, labels = data\n",
    "\n",
    "        # zero the parameter gradients\n",
    "        optimizer.zero_grad()\n",
    "\n",
    "        # forward + backward + optimize\n",
    "        outputs = net(inputs)\n",
    "        loss = criterion(outputs, labels)\n",
    "        loss.backward()\n",
    "        optimizer.step()\n",
    "\n",
    "        # print statistics\n",
    "        running_loss += loss.item()\n",
    "        if i % 1000 == 999:    # print every 1000 mini-batches\n",
    "            print(f'[{epoch + 1}, {i + 1:5d}] loss: {running_loss / 2000:.3f}')\n",
    "            running_loss = 0.0\n",
    "\n",
    "print('Finished Training')"
   ],
   "id": "893ac589291218cf",
   "outputs": [
    {
     "name": "stdout",
     "output_type": "stream",
     "text": [
      "[1,  1000] loss: 0.006\n",
      "[1,  2000] loss: 0.002\n",
      "[1,  3000] loss: 0.014\n",
      "[2,  1000] loss: 0.009\n",
      "[2,  2000] loss: 0.008\n",
      "[2,  3000] loss: 0.003\n",
      "[3,  1000] loss: 0.002\n",
      "[3,  2000] loss: 0.003\n",
      "[3,  3000] loss: 0.004\n",
      "[4,  1000] loss: 0.003\n",
      "[4,  2000] loss: 0.002\n",
      "[4,  3000] loss: 0.006\n",
      "[5,  1000] loss: 0.002\n",
      "[5,  2000] loss: 0.003\n",
      "[5,  3000] loss: 0.004\n",
      "[6,  1000] loss: 0.005\n",
      "[6,  2000] loss: 0.003\n",
      "[6,  3000] loss: 0.002\n",
      "[7,  1000] loss: 0.004\n",
      "[7,  2000] loss: 0.004\n",
      "[7,  3000] loss: 0.003\n",
      "[8,  1000] loss: 0.004\n",
      "[8,  2000] loss: 0.003\n",
      "[8,  3000] loss: 0.011\n",
      "[9,  1000] loss: 0.007\n",
      "[9,  2000] loss: 0.007\n",
      "[9,  3000] loss: 0.010\n",
      "[10,  1000] loss: 0.009\n",
      "[10,  2000] loss: 0.014\n",
      "[10,  3000] loss: 0.016\n",
      "[11,  1000] loss: 0.006\n",
      "[11,  2000] loss: 0.006\n",
      "[11,  3000] loss: 0.009\n",
      "[12,  1000] loss: 0.004\n",
      "[12,  2000] loss: 0.006\n",
      "[12,  3000] loss: 0.008\n",
      "[13,  1000] loss: 0.006\n",
      "[13,  2000] loss: 0.005\n",
      "[13,  3000] loss: 0.006\n",
      "[14,  1000] loss: 0.004\n",
      "[14,  2000] loss: 0.004\n",
      "[14,  3000] loss: 0.004\n",
      "[15,  1000] loss: 0.005\n",
      "[15,  2000] loss: 0.006\n",
      "[15,  3000] loss: 0.006\n",
      "[16,  1000] loss: 0.004\n",
      "[16,  2000] loss: 0.007\n",
      "[16,  3000] loss: 0.006\n",
      "[17,  1000] loss: 0.004\n",
      "[17,  2000] loss: 0.008\n",
      "[17,  3000] loss: 0.008\n",
      "[18,  1000] loss: 0.007\n",
      "[18,  2000] loss: 0.008\n",
      "[18,  3000] loss: 0.004\n",
      "[19,  1000] loss: 0.006\n",
      "[19,  2000] loss: 0.008\n",
      "[19,  3000] loss: 0.007\n",
      "[20,  1000] loss: 0.005\n",
      "[20,  2000] loss: 0.003\n",
      "[20,  3000] loss: 0.004\n",
      "[21,  1000] loss: 0.004\n",
      "[21,  2000] loss: 0.002\n",
      "[21,  3000] loss: 0.008\n",
      "[22,  1000] loss: 0.004\n",
      "[22,  2000] loss: 0.007\n",
      "[22,  3000] loss: 0.003\n",
      "[23,  1000] loss: 0.006\n",
      "[23,  2000] loss: 0.004\n",
      "[23,  3000] loss: 0.012\n",
      "[24,  1000] loss: 0.004\n",
      "[24,  2000] loss: 0.005\n",
      "[24,  3000] loss: 0.003\n",
      "[25,  1000] loss: 0.004\n",
      "[25,  2000] loss: 0.004\n",
      "[25,  3000] loss: 0.010\n",
      "Finished Training\n"
     ]
    }
   ],
   "execution_count": 42
  },
  {
   "metadata": {},
   "cell_type": "code",
   "outputs": [],
   "execution_count": null,
   "source": "torch.save(net.state_dict(), \"../src/model/centered_digit_model_weights.pth\")\n",
   "id": "369a31ee91600125"
  },
  {
   "metadata": {},
   "cell_type": "code",
   "outputs": [],
   "execution_count": null,
   "source": [
    "import numpy as np\n",
    "\n",
    "test_loader = torch.utils.data.DataLoader(\n",
    "    test_set,\n",
    "    batch_size=1,\n",
    "    shuffle=False,\n",
    "    num_workers=2,\n",
    ")\n",
    "\n",
    "correct = 0\n",
    "total = 0\n",
    "failed_ids = []\n",
    "for i, data in enumerate(test_loader):\n",
    "    inputs, labels = data\n",
    "    outputs = net(inputs)\n",
    "    # Batch size of 0\n",
    "    label = labels[0]\n",
    "    output = outputs[0]\n",
    "\n",
    "    total += 1\n",
    "    if np.argmax(F.softmax(output, dim=0).tolist()) == label:\n",
    "        correct += 1\n",
    "    else:\n",
    "        failed_ids.append(i)\n",
    "\n",
    "print(f\"Accuracy: {correct}/{total} ({(float(correct) / total):2.1%})\")"
   ],
   "id": "54330179fdeaa383"
  },
  {
   "metadata": {
    "ExecuteTime": {
     "end_time": "2025-04-28T16:53:24.121501Z",
     "start_time": "2025-04-28T16:53:24.006137Z"
    }
   },
   "cell_type": "code",
   "source": [
    "# Prints a random failed example\n",
    "import random\n",
    "\n",
    "failed_id = random.choice(failed_ids)\n",
    "(example, label) = test_set[failed_id]\n",
    "inputs = torch.stack([example])\n",
    "output = F.softmax(net(inputs), dim=1)[0]\n",
    "labels = sorted(enumerate(output), key=lambda x: x[1], reverse=True)\n",
    "print(f\"Expected label: {label}\")\n",
    "print(f\"Top labels: {\", \".join(f\"{label} ({prob:2.1%})\" for label, prob in labels[0:3])}\")\n",
    "v2.ToPILImage()(test_set.data[failed_id]).show()\n"
   ],
   "id": "a6d01d5f10a832ca",
   "outputs": [
    {
     "name": "stdout",
     "output_type": "stream",
     "text": [
      "Expected label: 9\n",
      "Top labels: 4 (86.9%), 9 (10.2%), 1 (2.0%)\n"
     ]
    }
   ],
   "execution_count": 92
  }
 ],
 "metadata": {
  "kernelspec": {
   "display_name": "Python 3 (ipykernel)",
   "language": "python",
   "name": "python3"
  },
  "language_info": {
   "codemirror_mode": {
    "name": "ipython",
    "version": 3
   },
   "file_extension": ".py",
   "mimetype": "text/x-python",
   "name": "python",
   "nbconvert_exporter": "python",
   "pygments_lexer": "ipython3",
   "version": "3.12.1"
  }
 },
 "nbformat": 4,
 "nbformat_minor": 5
}
